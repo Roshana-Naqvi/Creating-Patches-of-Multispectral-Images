{
 "cells": [
  {
   "cell_type": "code",
   "execution_count": 1,
   "metadata": {},
   "outputs": [],
   "source": [
    "import numpy as np\n",
    "import scipy.io as sio\n",
    "import os\n",
    "import random\n",
    "import scipy.ndimage"
   ]
  },
  {
   "cell_type": "code",
   "execution_count": 3,
   "metadata": {},
   "outputs": [],
   "source": [
    "#size of the patches\n",
    "windowSize = 80\n",
    "\n",
    "PATH = os.getcwd()\n",
    "#print(PATH)\n"
   ]
  },
  {
   "cell_type": "code",
   "execution_count": 5,
   "metadata": {},
   "outputs": [],
   "source": [
    "def loadData():\n",
    "    \"\"\"Method to load the GeoEYE Dataset image file is in .mat format.\"\"\"\n",
    "    data_path = os.getcwd()\n",
    "    data = sio.loadmat(os.path.join(data_path,\n",
    "                       'imgGE1'))['I_MS']\n",
    "    \n",
    "    return data"
   ]
  },
  {
   "cell_type": "code",
   "execution_count": 15,
   "metadata": {},
   "outputs": [],
   "source": [
    "def createPatches(X, windowSize):\n",
    "    margin = int((windowSize) / 2)\n",
    "    patchIndex = 0\n",
    "    for r in range(margin,  X.shape[0]-30, 10):\n",
    "        for c in range(margin,  X.shape[1]-30, 10):\n",
    "            x1=r-margin\n",
    "            x2=r+ margin\n",
    "            y1= c-margin\n",
    "            y2=c + margin \n",
    "            patch = X[x1:x2,y1:y2]\n",
    "            #print( x1, x2, y1, y2)\n",
    "        \n",
    "            data= patch\n",
    "            result={'I_out':data}    \n",
    "            output_path='output/patches80x80/'\n",
    "            sio.savemat(output_path+'/patch'+ str(patchIndex) +'.mat',result)\n",
    "            patchIndex = patchIndex + 1     "
   ]
  },
  {
   "cell_type": "code",
   "execution_count": 16,
   "metadata": {},
   "outputs": [],
   "source": [
    "X = loadData()"
   ]
  },
  {
   "cell_type": "code",
   "execution_count": 17,
   "metadata": {},
   "outputs": [
    {
     "data": {
      "text/plain": [
       "(320, 320, 4)"
      ]
     },
     "execution_count": 17,
     "metadata": {},
     "output_type": "execute_result"
    }
   ],
   "source": [
    "X.shape"
   ]
  },
  {
   "cell_type": "code",
   "execution_count": 18,
   "metadata": {},
   "outputs": [],
   "source": [
    "createPatches(X, windowSize)"
   ]
  },
  {
   "cell_type": "code",
   "execution_count": 19,
   "metadata": {},
   "outputs": [],
   "source": [
    "# CrossChecking the patches created\n",
    "#Get the maximum value from original image from the area included in specific patch\n",
    "maxValue = np.amax(X[240:320,240:320])"
   ]
  },
  {
   "cell_type": "code",
   "execution_count": 20,
   "metadata": {},
   "outputs": [
    {
     "data": {
      "text/plain": [
       "194"
      ]
     },
     "execution_count": 20,
     "metadata": {},
     "output_type": "execute_result"
    }
   ],
   "source": [
    "maxValue"
   ]
  },
  {
   "cell_type": "code",
   "execution_count": 22,
   "metadata": {},
   "outputs": [],
   "source": [
    "#load the created patch and find its max value\n",
    "output_path='output/patches80x80'\n",
    "data = sio.loadmat(output_path+'/patch624')['I_out']"
   ]
  },
  {
   "cell_type": "code",
   "execution_count": 23,
   "metadata": {},
   "outputs": [
    {
     "data": {
      "text/plain": [
       "(80, 80, 4)"
      ]
     },
     "execution_count": 23,
     "metadata": {},
     "output_type": "execute_result"
    }
   ],
   "source": [
    "data.shape"
   ]
  },
  {
   "cell_type": "code",
   "execution_count": 26,
   "metadata": {},
   "outputs": [
    {
     "name": "stdout",
     "output_type": "stream",
     "text": [
      "194\n"
     ]
    }
   ],
   "source": [
    "\n",
    "print(np.amax(data))"
   ]
  }
 ],
 "metadata": {
  "kernelspec": {
   "display_name": "Python 3",
   "language": "python",
   "name": "python3"
  },
  "language_info": {
   "codemirror_mode": {
    "name": "ipython",
    "version": 3
   },
   "file_extension": ".py",
   "mimetype": "text/x-python",
   "name": "python",
   "nbconvert_exporter": "python",
   "pygments_lexer": "ipython3",
   "version": "3.7.3"
  }
 },
 "nbformat": 4,
 "nbformat_minor": 2
}
